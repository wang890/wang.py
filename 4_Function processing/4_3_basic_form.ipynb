{
 "cells": [
  {
   "cell_type": "markdown",
   "id": "649e8317cf0043b9",
   "metadata": {},
   "source": [
    "### .1 什么是函数\n",
    "函数是机器，处理对象和产品都是数据对象"
   ]
  },
  {
   "cell_type": "markdown",
   "id": "7a08a12fb090f17f",
   "metadata": {},
   "source": [
    "### .2 basic form\n",
    "+ 参数\n",
    "+ 返回值"
   ]
  },
  {
   "cell_type": "code",
   "execution_count": 10,
   "id": "de03d3f7f89334bb",
   "metadata": {
    "ExecuteTime": {
     "end_time": "2025-03-27T11:44:10.027376Z",
     "start_time": "2025-03-27T11:44:10.023348Z"
    }
   },
   "outputs": [],
   "source": [
    "def add(x,y):# 定义，模板\n",
    "    \"\"\"\n",
    "    :x, 第一个元素\n",
    "    :y, 第二个元素\n",
    "    :return the adding result\n",
    "    \"\"\"\n",
    "    r = x +y\n",
    "    return r"
   ]
  },
  {
   "cell_type": "code",
   "execution_count": 11,
   "id": "33b24706d555f6b2",
   "metadata": {
    "ExecuteTime": {
     "end_time": "2025-03-27T11:44:27.628928Z",
     "start_time": "2025-03-27T11:44:27.623811Z"
    }
   },
   "outputs": [
    {
     "name": "stdout",
     "output_type": "stream",
     "text": [
      "Help on function add in module __main__:\n",
      "\n",
      "add(x, y)\n",
      "    :x, 第一个元素\n",
      "    :y, 第二个元素\n",
      "    :return the adding result\n",
      "\n"
     ]
    }
   ],
   "source": [
    "help(add)"
   ]
  },
  {
   "cell_type": "code",
   "execution_count": 3,
   "id": "63b0a9ae7dc92df3",
   "metadata": {
    "ExecuteTime": {
     "end_time": "2025-03-27T11:31:35.760814Z",
     "start_time": "2025-03-27T11:31:35.754034Z"
    }
   },
   "outputs": [
    {
     "data": {
      "text/plain": [
       "3"
      ]
     },
     "execution_count": 3,
     "metadata": {},
     "output_type": "execute_result"
    }
   ],
   "source": [
    "add(1,2) # call, 实例化：一次应用"
   ]
  },
  {
   "cell_type": "code",
   "execution_count": 4,
   "id": "f7f45ddbc6d38770",
   "metadata": {
    "ExecuteTime": {
     "end_time": "2025-03-27T11:37:16.234509Z",
     "start_time": "2025-03-27T11:37:16.229022Z"
    }
   },
   "outputs": [
    {
     "data": {
      "text/plain": [
       "[1, 2, 4, 5]"
      ]
     },
     "execution_count": 4,
     "metadata": {},
     "output_type": "execute_result"
    }
   ],
   "source": [
    "[1,2] + [4,5]"
   ]
  },
  {
   "cell_type": "code",
   "execution_count": 5,
   "id": "fd0b5834c6040e4c",
   "metadata": {
    "ExecuteTime": {
     "end_time": "2025-03-27T11:37:40.214177Z",
     "start_time": "2025-03-27T11:37:40.210820Z"
    }
   },
   "outputs": [],
   "source": [
    "lst = [1,2,3]\n",
    "lst.append(4)"
   ]
  },
  {
   "cell_type": "code",
   "execution_count": 6,
   "id": "b309aeb29be4a8c8",
   "metadata": {
    "ExecuteTime": {
     "end_time": "2025-03-27T11:37:58.137897Z",
     "start_time": "2025-03-27T11:37:58.132870Z"
    }
   },
   "outputs": [
    {
     "data": {
      "text/plain": [
       "[1, 2, 3, 4]"
      ]
     },
     "execution_count": 6,
     "metadata": {},
     "output_type": "execute_result"
    }
   ],
   "source": [
    "lst"
   ]
  },
  {
   "cell_type": "code",
   "execution_count": 7,
   "id": "1f9a9c71416d127d",
   "metadata": {
    "ExecuteTime": {
     "end_time": "2025-03-27T11:39:01.431320Z",
     "start_time": "2025-03-27T11:39:01.106675Z"
    }
   },
   "outputs": [
    {
     "ename": "TypeError",
     "evalue": "unsupported operand type(s) for +: 'NoneType' and 'list'",
     "output_type": "error",
     "traceback": [
      "\u001B[31m---------------------------------------------------------------------------\u001B[39m",
      "\u001B[31mTypeError\u001B[39m                                 Traceback (most recent call last)",
      "\u001B[36mCell\u001B[39m\u001B[36m \u001B[39m\u001B[32mIn[7]\u001B[39m\u001B[32m, line 1\u001B[39m\n\u001B[32m----> \u001B[39m\u001B[32m1\u001B[39m \u001B[43mlst\u001B[49m\u001B[43m.\u001B[49m\u001B[43mappend\u001B[49m\u001B[43m(\u001B[49m\u001B[32;43m5\u001B[39;49m\u001B[43m)\u001B[49m\u001B[43m \u001B[49m\u001B[43m+\u001B[49m\u001B[43m \u001B[49m\u001B[43m[\u001B[49m\u001B[32;43m6\u001B[39;49m\u001B[43m,\u001B[49m\u001B[32;43m7\u001B[39;49m\u001B[43m]\u001B[49m\n",
      "\u001B[31mTypeError\u001B[39m: unsupported operand type(s) for +: 'NoneType' and 'list'"
     ]
    }
   ],
   "source": [
    "lst.append(5) + [6,7]"
   ]
  },
  {
   "cell_type": "code",
   "execution_count": 8,
   "id": "b675fb1d94774169",
   "metadata": {
    "ExecuteTime": {
     "end_time": "2025-03-27T11:40:56.870405Z",
     "start_time": "2025-03-27T11:40:56.864120Z"
    }
   },
   "outputs": [
    {
     "name": "stdout",
     "output_type": "stream",
     "text": [
      "Help on built-in function append:\n",
      "\n",
      "append(object, /) method of builtins.list instance\n",
      "    Append object to the end of the list.\n",
      "\n"
     ]
    }
   ],
   "source": [
    "help(lst.append)"
   ]
  },
  {
   "metadata": {},
   "cell_type": "markdown",
   "source": [
    "### .2 return"
   ],
   "id": "7cdd199efaf1615d"
  },
  {
   "metadata": {
    "ExecuteTime": {
     "end_time": "2025-03-27T11:58:03.017724Z",
     "start_time": "2025-03-27T11:58:03.010977Z"
    }
   },
   "cell_type": "code",
   "source": [
    "def calculate(x,y):\n",
    "    r1 = x+y\n",
    "    r2 = x*y\n",
    "    return r1, r2 # pack to a tuple"
   ],
   "id": "d34a684d3b42a69f",
   "outputs": [],
   "execution_count": 15
  },
  {
   "metadata": {
    "ExecuteTime": {
     "end_time": "2025-03-27T12:00:11.145822Z",
     "start_time": "2025-03-27T12:00:11.138224Z"
    }
   },
   "cell_type": "code",
   "source": [
    "from IPython.display import display\n",
    "results = calculate(1,2)\n",
    "display(results)\n",
    "type(results)"
   ],
   "id": "b9e886d66e2c87db",
   "outputs": [
    {
     "data": {
      "text/plain": [
       "(3, 2)"
      ]
     },
     "metadata": {},
     "output_type": "display_data"
    },
    {
     "data": {
      "text/plain": [
       "tuple"
      ]
     },
     "execution_count": 20,
     "metadata": {},
     "output_type": "execute_result"
    }
   ],
   "execution_count": 20
  },
  {
   "metadata": {
    "ExecuteTime": {
     "end_time": "2025-03-27T12:01:25.807976Z",
     "start_time": "2025-03-27T12:01:25.803365Z"
    }
   },
   "cell_type": "code",
   "source": [
    "r1, r2 = calculate(1,2)\n",
    "print(r1, r2)"
   ],
   "id": "d7354b612f385c25",
   "outputs": [
    {
     "name": "stdout",
     "output_type": "stream",
     "text": [
      "3 2\n"
     ]
    }
   ],
   "execution_count": 22
  },
  {
   "metadata": {
    "ExecuteTime": {
     "end_time": "2025-03-27T12:02:23.963863Z",
     "start_time": "2025-03-27T12:02:23.960632Z"
    }
   },
   "cell_type": "code",
   "source": [
    "r1, r2 = (3, 2)  # unpack\n",
    "print(r1, r2)"
   ],
   "id": "94f75f012e7e8f3a",
   "outputs": [
    {
     "name": "stdout",
     "output_type": "stream",
     "text": [
      "3 2\n"
     ]
    }
   ],
   "execution_count": 24
  },
  {
   "metadata": {
    "ExecuteTime": {
     "end_time": "2025-03-27T12:02:38.537495Z",
     "start_time": "2025-03-27T12:02:38.531934Z"
    }
   },
   "cell_type": "code",
   "source": [
    "r1"
   ],
   "id": "3d4f9aa1a8e05a3a",
   "outputs": [
    {
     "data": {
      "text/plain": [
       "3"
      ]
     },
     "execution_count": 25,
     "metadata": {},
     "output_type": "execute_result"
    }
   ],
   "execution_count": 25
  },
  {
   "metadata": {
    "ExecuteTime": {
     "end_time": "2025-03-27T12:04:19.597370Z",
     "start_time": "2025-03-27T12:04:19.592487Z"
    }
   },
   "cell_type": "code",
   "source": [
    "r3, r4 = [5,6]\n",
    "r4"
   ],
   "id": "edc1242ea4b82ba8",
   "outputs": [
    {
     "data": {
      "text/plain": [
       "6"
      ]
     },
     "execution_count": 26,
     "metadata": {},
     "output_type": "execute_result"
    }
   ],
   "execution_count": 26
  },
  {
   "metadata": {},
   "cell_type": "markdown",
   "source": [
    "return 中止返回"
   ],
   "id": "a15a795995bed246"
  },
  {
   "metadata": {
    "ExecuteTime": {
     "end_time": "2025-03-27T12:08:39.967808Z",
     "start_time": "2025-03-27T12:08:39.962892Z"
    }
   },
   "cell_type": "code",
   "source": [
    "def exam(score):\n",
    "    score = 90\n",
    "    if score >= 90:\n",
    "        return \"优秀\"\n",
    "    elif score >= 60:\n",
    "        return \"pass\"\n",
    "    else:\n",
    "        return \"again\""
   ],
   "id": "9dd0b51b046efb86",
   "outputs": [],
   "execution_count": 27
  },
  {
   "metadata": {
    "ExecuteTime": {
     "end_time": "2025-03-27T12:08:50.450859Z",
     "start_time": "2025-03-27T12:08:50.446369Z"
    }
   },
   "cell_type": "code",
   "source": [
    "exam(95)\n"
   ],
   "id": "ad751c04ea9ca81",
   "outputs": [
    {
     "data": {
      "text/plain": [
       "'优秀'"
      ]
     },
     "execution_count": 28,
     "metadata": {},
     "output_type": "execute_result"
    }
   ],
   "execution_count": 28
  }
 ],
 "metadata": {
  "kernelspec": {
   "display_name": "Python 3 (ipykernel)",
   "language": "python",
   "name": "python3"
  },
  "language_info": {
   "codemirror_mode": {
    "name": "ipython",
    "version": 3
   },
   "file_extension": ".py",
   "mimetype": "text/x-python",
   "name": "python",
   "nbconvert_exporter": "python",
   "pygments_lexer": "ipython3",
   "version": "3.13.2"
  }
 },
 "nbformat": 4,
 "nbformat_minor": 5
}