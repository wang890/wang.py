{
 "cells": [
  {
   "cell_type": "markdown",
   "id": "32c9d9eb",
   "metadata": {},
   "source": [
    "### .1 range"
   ]
  },
  {
   "cell_type": "code",
   "execution_count": null,
   "id": "65d0f0a7",
   "metadata": {},
   "outputs": [
    {
     "name": "stdout",
     "output_type": "stream",
     "text": [
      "0   1   2   3   4   5   6   7   8   9   "
     ]
    }
   ],
   "source": [
    "for x in range(0, 10):\n",
    "    print(x, end='   ')"
   ]
  },
  {
   "cell_type": "code",
   "execution_count": null,
   "id": "7b5c2b00",
   "metadata": {},
   "outputs": [],
   "source": []
  }
 ],
 "metadata": {
  "language_info": {
   "name": "python"
  }
 },
 "nbformat": 4,
 "nbformat_minor": 5
}
