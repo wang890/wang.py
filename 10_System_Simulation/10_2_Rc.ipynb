{
 "cells": [
  {
   "cell_type": "code",
   "execution_count": 1,
   "metadata": {},
   "outputs": [],
   "source": [
    "from pipetools import pipe\n",
    "from IPython.display import display"
   ]
  },
  {
   "cell_type": "code",
   "execution_count": 36,
   "metadata": {},
   "outputs": [],
   "source": [
    "from model import *"
   ]
  },
  {
   "cell_type": "code",
   "execution_count": 37,
   "metadata": {},
   "outputs": [
    {
     "data": {
      "text/plain": [
       "<model.RCsys at 0x1f523d9b880>"
      ]
     },
     "execution_count": 37,
     "metadata": {},
     "output_type": "execute_result"
    }
   ],
   "source": [
    "# 实例化模型\n",
    "sys = RCsys()\n",
    "sys"
   ]
  },
  {
   "cell_type": "code",
   "execution_count": 38,
   "metadata": {},
   "outputs": [
    {
     "data": {
      "text/plain": [
       "{resistor_R: 1.0, source_V: 1.0, capacitor_C: 1.0}"
      ]
     },
     "execution_count": 38,
     "metadata": {},
     "output_type": "execute_result"
    }
   ],
   "source": [
    "# 参数替换字典\n",
    "params = {\n",
    "        sp.symbols('resistor_R'): 1.0,  # 电阻值\n",
    "        sp.symbols('source_V'): 1.0,  # 电源电压\n",
    "        sp.symbols('capacitor_C'): 1.0  # 电容值\n",
    "}\n",
    "params"
   ]
  },
  {
   "cell_type": "code",
   "execution_count": 39,
   "metadata": {},
   "outputs": [
    {
     "data": {
      "text/plain": [
       "21"
      ]
     },
     "metadata": {},
     "output_type": "display_data"
    },
    {
     "data": {
      "text/plain": [
       "[True,\n",
       " Eq(0, resistor_n_i + resistor_p_i),\n",
       " True,\n",
       " Eq(-resistor_n_v + resistor_p_v, 1.0*resistor_p_i),\n",
       " True,\n",
       " Eq(0, capacitor_n_i + capacitor_p_i),\n",
       " True,\n",
       " Eq(-capacitor_n_v + capacitor_p_v, V_C(t)),\n",
       " True,\n",
       " Eq(0, source_n_i + source_p_i),\n",
       " True,\n",
       " Eq(1.0, -source_n_v + source_p_v),\n",
       " Eq(ground_g_v, 0),\n",
       " Eq(source_p_v, resistor_p_v),\n",
       " Eq(resistor_p_i + source_p_i, 0),\n",
       " Eq(resistor_n_v, capacitor_p_v),\n",
       " Eq(capacitor_p_i + resistor_n_i, 0),\n",
       " Eq(capacitor_n_v, source_n_v),\n",
       " Eq(capacitor_n_i + source_n_i, 0),\n",
       " Eq(capacitor_n_v, ground_g_v),\n",
       " Eq(capacitor_n_i + ground_g_i, 0)]"
      ]
     },
     "execution_count": 39,
     "metadata": {},
     "output_type": "execute_result"
    }
   ],
   "source": [
    "equations = [eq.subs(params) for eq in sys.equations]\n",
    "eqs_diff = [eq for eq in equations if eq.has(sp.Derivative)]\n",
    "eqs_algebraic = [eq for eq in equations if not eq.has(sp.Derivative)]\n",
    "\n",
    "eqs_algebraic > pipe | len | display\n",
    "eqs_algebraic"
   ]
  },
  {
   "cell_type": "code",
   "execution_count": 40,
   "metadata": {},
   "outputs": [
    {
     "data": {
      "text/plain": [
       "{V_C(t)}"
      ]
     },
     "metadata": {},
     "output_type": "display_data"
    },
    {
     "data": {
      "text/plain": [
       "[source_n_i,\n",
       " capacitor_p_v,\n",
       " ground_g_i,\n",
       " resistor_p_i,\n",
       " capacitor_n_i,\n",
       " ground_g_v,\n",
       " source_p_v,\n",
       " resistor_p_v,\n",
       " source_n_v,\n",
       " source_p_i,\n",
       " capacitor_p_i,\n",
       " resistor_n_v,\n",
       " capacitor_n_v,\n",
       " resistor_n_i]"
      ]
     },
     "metadata": {},
     "output_type": "display_data"
    }
   ],
   "source": [
    "# 收集所有代数变量，识别微分变量\n",
    "vrs = set().union(*[eq.free_symbols for eq in equations]) \n",
    "# * 解包list[], 然后空集合与其并集,得到vrs集合，用集合去重 集合里相同元素会自动去重\n",
    "vrs_diff = {eq.lhs.args[0] for eq in eqs_diff}\n",
    "vrs_algebraic = list(vrs - vrs_diff - {t})\n",
    "\n",
    "vrs_diff > pipe | display\n",
    "vrs_algebraic > pipe | display"
   ]
  },
  {
   "cell_type": "markdown",
   "metadata": {},
   "source": [
    "**ask:** 请认真阅读@10_2_Rc.py ，vrs = set().union(*[eq.free_symbols for eq in equations]) 这条语句中的free_symbols是什么意思，得到列表[]后，[]前的*号是什么意思？union是什么意思？你能给我举一个非常简单的例子说明这条语句吗？<br>\n",
    "\n",
    "**AI answer:**<br>\n",
    "文字略,举例代码如下一个cell"
   ]
  },
  {
   "cell_type": "code",
   "execution_count": 41,
   "metadata": {},
   "outputs": [
    {
     "name": "stdout",
     "output_type": "stream",
     "text": [
      "eq1.free_symbols: {y, x}\n",
      "eq2.free_symbols: {z, y}\n",
      "列表推导式的结果: [{y, x}, {z, y}]\n",
      "最终 vrs 的结果: {y, z, x}\n"
     ]
    }
   ],
   "source": [
    "import sympy as sp\n",
    "\n",
    "# 定义符号\n",
    "x, y, z = sp.symbols('x y z')\n",
    "\n",
    "# 创建两个方程\n",
    "eq1 = sp.Eq(x + 2*y, 0)\n",
    "eq2 = sp.Eq(y - z, 5)\n",
    "\n",
    "# 将方程放入列表\n",
    "equations = [eq1, eq2]\n",
    "\n",
    "# 我们要解释的语句\n",
    "vrs = set().union(*[eq.free_symbols for eq in equations])\n",
    "\n",
    "print(f\"eq1.free_symbols: {eq1.free_symbols}\")\n",
    "print(f\"eq2.free_symbols: {eq2.free_symbols}\")\n",
    "print(f\"列表推导式的结果: {[eq.free_symbols for eq in equations]}\")\n",
    "print(f\"最终 vrs 的结果: {vrs}\")"
   ]
  },
  {
   "cell_type": "code",
   "execution_count": 42,
   "metadata": {},
   "outputs": [
    {
     "data": {
      "text/plain": [
       "{V_C(t)}"
      ]
     },
     "metadata": {},
     "output_type": "display_data"
    },
    {
     "data": {
      "text/plain": [
       "set"
      ]
     },
     "metadata": {},
     "output_type": "display_data"
    },
    {
     "data": {
      "text/plain": [
       "V_C"
      ]
     },
     "metadata": {},
     "output_type": "display_data"
    }
   ],
   "source": [
    "{eqs_diff[0].lhs.args[0]} > pipe | display\n",
    "\n",
    "{eqs_diff[0].lhs.args[0]} > pipe | type | display\n",
    "\n",
    "eqs_diff[0].lhs.args[0] > pipe | type | display"
   ]
  },
  {
   "cell_type": "code",
   "execution_count": 43,
   "metadata": {},
   "outputs": [],
   "source": [
    "# 求解代数方程组\n",
    "try:\n",
    "    sol_algebraic = sp.solve(eqs_algebraic, vrs_algebraic, dict=True)[0]\n",
    "except IndexError:  # 添加存在性检查\n",
    "    print(\"代数方程求解失败，当前方程组：\")\n",
    "    for i, eq in enumerate(eqs_algebraic):\n",
    "        print(f\"Eq{i}: {eq}\")\n",
    "    raise RuntimeError(\"无法求解代数方程组，请检查设备元件连接关系\")"
   ]
  },
  {
   "cell_type": "code",
   "execution_count": 44,
   "metadata": {},
   "outputs": [
    {
     "data": {
      "text/plain": [
       "14"
      ]
     },
     "metadata": {},
     "output_type": "display_data"
    },
    {
     "data": {
      "text/plain": [
       "{capacitor_n_i: V_C(t) - 1.0,\n",
       " capacitor_n_v: 0.0,\n",
       " capacitor_p_i: 1.0 - V_C(t),\n",
       " capacitor_p_v: V_C(t),\n",
       " ground_g_i: 1.0 - V_C(t),\n",
       " ground_g_v: 0.0,\n",
       " resistor_n_i: V_C(t) - 1.0,\n",
       " resistor_n_v: V_C(t),\n",
       " resistor_p_i: 1.0 - V_C(t),\n",
       " resistor_p_v: 1.00000000000000,\n",
       " source_n_i: 1.0 - V_C(t),\n",
       " source_n_v: 0.0,\n",
       " source_p_i: V_C(t) - 1.0,\n",
       " source_p_v: 1.00000000000000}"
      ]
     },
     "metadata": {},
     "output_type": "display_data"
    }
   ],
   "source": [
    "sol_algebraic > pipe | len | display\n",
    "sol_algebraic > pipe | display"
   ]
  },
  {
   "cell_type": "code",
   "execution_count": 45,
   "metadata": {},
   "outputs": [
    {
     "data": {
      "text/plain": [
       "[Eq(Derivative(V_C(t), t), 1.0*capacitor_p_i)]"
      ]
     },
     "metadata": {},
     "output_type": "display_data"
    },
    {
     "data": {
      "text/plain": [
       "[Eq(Derivative(V_C(t), t), 1.0 - 1.0*V_C(t))]"
      ]
     },
     "metadata": {},
     "output_type": "display_data"
    }
   ],
   "source": [
    "# 化简微分方程\n",
    "eqs_ode = [eq.subs(sol_algebraic).doit() for eq in eqs_diff]\n",
    "eqs_diff > pipe | display\n",
    "eqs_ode > pipe | display\n"
   ]
  },
  {
   "cell_type": "code",
   "execution_count": 46,
   "metadata": {},
   "outputs": [
    {
     "data": {
      "text/latex": [
       "$\\displaystyle V_{C}{\\left(t \\right)}$"
      ],
      "text/plain": [
       "V_C(t)"
      ]
     },
     "metadata": {},
     "output_type": "display_data"
    },
    {
     "data": {
      "text/plain": [
       "V_C"
      ]
     },
     "metadata": {},
     "output_type": "display_data"
    }
   ],
   "source": [
    "# 提取ODE表达式\n",
    "v_c = sp.Function('V_C')(t)\n",
    "v_c > pipe | display\n",
    "v_c > pipe | type | display"
   ]
  },
  {
   "cell_type": "code",
   "execution_count": 47,
   "metadata": {},
   "outputs": [
    {
     "data": {
      "text/latex": [
       "$\\displaystyle 1.0 - 1.0 V_{C}{\\left(t \\right)}$"
      ],
      "text/plain": [
       "1.0 - 1.0*V_C(t)"
      ]
     },
     "metadata": {},
     "output_type": "display_data"
    },
    {
     "data": {
      "text/plain": [
       "sympy.core.add.Add"
      ]
     },
     "metadata": {},
     "output_type": "display_data"
    }
   ],
   "source": [
    "ode_rhs = eqs_ode[0].rhs\n",
    "ode_rhs > pipe | display\n",
    "ode_rhs > pipe | type | display"
   ]
  },
  {
   "cell_type": "code",
   "execution_count": 48,
   "metadata": {},
   "outputs": [
    {
     "data": {
      "text/plain": [
       "<function _lambdifygenerated(t, _Dummy_43)>"
      ]
     },
     "metadata": {},
     "output_type": "display_data"
    },
    {
     "data": {
      "text/plain": [
       "function"
      ]
     },
     "metadata": {},
     "output_type": "display_data"
    }
   ],
   "source": [
    "# 创建数值计算函数\n",
    "dydt = sp.lambdify((t, v_c), ode_rhs, modules='numpy')\n",
    "dydt > pipe | display\n",
    "dydt > pipe | type | display"
   ]
  },
  {
   "cell_type": "code",
   "execution_count": 49,
   "metadata": {},
   "outputs": [
    {
     "data": {
      "text/plain": [
       "array([ 0.        ,  0.1010101 ,  0.2020202 ,  0.3030303 ,  0.4040404 ,\n",
       "        0.50505051,  0.60606061,  0.70707071,  0.80808081,  0.90909091,\n",
       "        1.01010101,  1.11111111,  1.21212121,  1.31313131,  1.41414141,\n",
       "        1.51515152,  1.61616162,  1.71717172,  1.81818182,  1.91919192,\n",
       "        2.02020202,  2.12121212,  2.22222222,  2.32323232,  2.42424242,\n",
       "        2.52525253,  2.62626263,  2.72727273,  2.82828283,  2.92929293,\n",
       "        3.03030303,  3.13131313,  3.23232323,  3.33333333,  3.43434343,\n",
       "        3.53535354,  3.63636364,  3.73737374,  3.83838384,  3.93939394,\n",
       "        4.04040404,  4.14141414,  4.24242424,  4.34343434,  4.44444444,\n",
       "        4.54545455,  4.64646465,  4.74747475,  4.84848485,  4.94949495,\n",
       "        5.05050505,  5.15151515,  5.25252525,  5.35353535,  5.45454545,\n",
       "        5.55555556,  5.65656566,  5.75757576,  5.85858586,  5.95959596,\n",
       "        6.06060606,  6.16161616,  6.26262626,  6.36363636,  6.46464646,\n",
       "        6.56565657,  6.66666667,  6.76767677,  6.86868687,  6.96969697,\n",
       "        7.07070707,  7.17171717,  7.27272727,  7.37373737,  7.47474747,\n",
       "        7.57575758,  7.67676768,  7.77777778,  7.87878788,  7.97979798,\n",
       "        8.08080808,  8.18181818,  8.28282828,  8.38383838,  8.48484848,\n",
       "        8.58585859,  8.68686869,  8.78787879,  8.88888889,  8.98989899,\n",
       "        9.09090909,  9.19191919,  9.29292929,  9.39393939,  9.49494949,\n",
       "        9.5959596 ,  9.6969697 ,  9.7979798 ,  9.8989899 , 10.        ])"
      ]
     },
     "execution_count": 49,
     "metadata": {},
     "output_type": "execute_result"
    }
   ],
   "source": [
    "# 求解ODE\n",
    "t_span = (0, 10.0)        # 仿真时间段 0-10秒\n",
    "u0 = [0.0]                # 微分变量电容电压初始值\n",
    "np.linspace(*t_span, 100) # * 解包元组 等价于np.linspace(0, 10.0, 100) \n"
   ]
  },
  {
   "cell_type": "code",
   "execution_count": 50,
   "metadata": {},
   "outputs": [
    {
     "data": {
      "text/plain": [
       "scipy.integrate._ivp.ivp.OdeResult"
      ]
     },
     "metadata": {},
     "output_type": "display_data"
    },
    {
     "data": {
      "text/plain": [
       "  message: The solver successfully reached the end of the integration interval.\n",
       "  success: True\n",
       "   status: 0\n",
       "        t: [ 0.000e+00  1.010e-01 ...  9.899e+00  1.000e+01]\n",
       "        y: [[ 0.000e+00  9.608e-02 ...  9.999e-01  9.999e-01]]\n",
       "      sol: None\n",
       " t_events: None\n",
       " y_events: None\n",
       "     nfev: 74\n",
       "     njev: 0\n",
       "      nlu: 0"
      ]
     },
     "execution_count": 50,
     "metadata": {},
     "output_type": "execute_result"
    }
   ],
   "source": [
    "sol = solve_ivp(dydt, t_span, u0, t_eval=np.linspace(*t_span, 100))\n",
    "sol > pipe | type | display\n",
    "sol"
   ]
  },
  {
   "cell_type": "code",
   "execution_count": 51,
   "metadata": {},
   "outputs": [
    {
     "name": "stdout",
     "output_type": "stream",
     "text": [
      "\u001b[32m数据已成功保存至 sim_outs.xlsx\u001b[0m\n"
     ]
    }
   ],
   "source": [
    "# 保存仿真结果数据\n",
    "save_outs(sol, 0, \"time\\\\s\", \"Vc\\\\V\")"
   ]
  },
  {
   "cell_type": "code",
   "execution_count": 52,
   "metadata": {},
   "outputs": [
    {
     "ename": "KeyboardInterrupt",
     "evalue": "",
     "output_type": "error",
     "traceback": [
      "\u001b[1;31m---------------------------------------------------------------------------\u001b[0m",
      "\u001b[1;31mKeyboardInterrupt\u001b[0m                         Traceback (most recent call last)",
      "Cell \u001b[1;32mIn[52], line 2\u001b[0m\n\u001b[0;32m      1\u001b[0m \u001b[38;5;66;03m# 可视化结果\u001b[39;00m\n\u001b[1;32m----> 2\u001b[0m \u001b[43mplot\u001b[49m\u001b[43m(\u001b[49m\u001b[43msol\u001b[49m\u001b[38;5;241;43m.\u001b[39;49m\u001b[43mt\u001b[49m\u001b[43m,\u001b[49m\u001b[43m \u001b[49m\u001b[43msol\u001b[49m\u001b[38;5;241;43m.\u001b[39;49m\u001b[43my\u001b[49m\u001b[43m[\u001b[49m\u001b[38;5;241;43m0\u001b[39;49m\u001b[43m]\u001b[49m\u001b[43m,\u001b[49m\u001b[43m \u001b[49m\u001b[43mlabel\u001b[49m\u001b[38;5;241;43m=\u001b[39;49m\u001b[38;5;124;43m\"\u001b[39;49m\u001b[38;5;124;43mCapacitor Voltage Vc\u001b[39;49m\u001b[38;5;124;43m\"\u001b[39;49m\u001b[43m,\u001b[49m\n\u001b[0;32m      3\u001b[0m \u001b[43m     \u001b[49m\u001b[43mx_label\u001b[49m\u001b[38;5;241;43m=\u001b[39;49m\u001b[38;5;124;43m\"\u001b[39;49m\u001b[38;5;124;43mtime / s\u001b[39;49m\u001b[38;5;124;43m\"\u001b[39;49m\u001b[43m,\u001b[49m\u001b[43m \u001b[49m\u001b[43my_label\u001b[49m\u001b[38;5;241;43m=\u001b[39;49m\u001b[38;5;124;43m\"\u001b[39;49m\u001b[38;5;124;43mVc / V\u001b[39;49m\u001b[38;5;124;43m\"\u001b[39;49m\u001b[43m)\u001b[49m\n\u001b[0;32m      5\u001b[0m \u001b[38;5;66;03m# print(\"---- End ----\")\u001b[39;00m\n",
      "File \u001b[1;32me:\\wang.py\\10_System_Simulation\\model.py:151\u001b[0m, in \u001b[0;36mplot\u001b[1;34m(x, y, label, x_label, y_label)\u001b[0m\n\u001b[0;32m    149\u001b[0m plt\u001b[38;5;241m.\u001b[39mlegend()\n\u001b[0;32m    150\u001b[0m plt\u001b[38;5;241m.\u001b[39mtight_layout()\n\u001b[1;32m--> 151\u001b[0m \u001b[43mplt\u001b[49m\u001b[38;5;241;43m.\u001b[39;49m\u001b[43mshow\u001b[49m\u001b[43m(\u001b[49m\u001b[43m)\u001b[49m\n",
      "File \u001b[1;32me:\\wang.py\\.venv\\lib\\site-packages\\matplotlib\\pyplot.py:612\u001b[0m, in \u001b[0;36mshow\u001b[1;34m(*args, **kwargs)\u001b[0m\n\u001b[0;32m    568\u001b[0m \u001b[38;5;250m\u001b[39m\u001b[38;5;124;03m\"\"\"\u001b[39;00m\n\u001b[0;32m    569\u001b[0m \u001b[38;5;124;03mDisplay all open figures.\u001b[39;00m\n\u001b[0;32m    570\u001b[0m \n\u001b[1;32m   (...)\u001b[0m\n\u001b[0;32m    609\u001b[0m \u001b[38;5;124;03mexplicitly there.\u001b[39;00m\n\u001b[0;32m    610\u001b[0m \u001b[38;5;124;03m\"\"\"\u001b[39;00m\n\u001b[0;32m    611\u001b[0m _warn_if_gui_out_of_main_thread()\n\u001b[1;32m--> 612\u001b[0m \u001b[38;5;28;01mreturn\u001b[39;00m _get_backend_mod()\u001b[38;5;241m.\u001b[39mshow(\u001b[38;5;241m*\u001b[39margs, \u001b[38;5;241m*\u001b[39m\u001b[38;5;241m*\u001b[39mkwargs)\n",
      "File \u001b[1;32me:\\wang.py\\.venv\\lib\\site-packages\\matplotlib\\backend_bases.py:3553\u001b[0m, in \u001b[0;36m_Backend.show\u001b[1;34m(cls, block)\u001b[0m\n\u001b[0;32m   3551\u001b[0m     block \u001b[38;5;241m=\u001b[39m \u001b[38;5;129;01mnot\u001b[39;00m ipython_pylab \u001b[38;5;129;01mand\u001b[39;00m \u001b[38;5;129;01mnot\u001b[39;00m is_interactive()\n\u001b[0;32m   3552\u001b[0m \u001b[38;5;28;01mif\u001b[39;00m block:\n\u001b[1;32m-> 3553\u001b[0m     \u001b[38;5;28;43mcls\u001b[39;49m\u001b[38;5;241;43m.\u001b[39;49m\u001b[43mmainloop\u001b[49m\u001b[43m(\u001b[49m\u001b[43m)\u001b[49m\n",
      "File \u001b[1;32me:\\wang.py\\.venv\\lib\\site-packages\\matplotlib\\backends\\_backend_tk.py:520\u001b[0m, in \u001b[0;36mFigureManagerTk.start_main_loop\u001b[1;34m(cls)\u001b[0m\n\u001b[0;32m    518\u001b[0m manager_class\u001b[38;5;241m.\u001b[39m_owns_mainloop \u001b[38;5;241m=\u001b[39m \u001b[38;5;28;01mTrue\u001b[39;00m\n\u001b[0;32m    519\u001b[0m \u001b[38;5;28;01mtry\u001b[39;00m:\n\u001b[1;32m--> 520\u001b[0m     \u001b[43mfirst_manager\u001b[49m\u001b[38;5;241;43m.\u001b[39;49m\u001b[43mwindow\u001b[49m\u001b[38;5;241;43m.\u001b[39;49m\u001b[43mmainloop\u001b[49m\u001b[43m(\u001b[49m\u001b[43m)\u001b[49m\n\u001b[0;32m    521\u001b[0m \u001b[38;5;28;01mfinally\u001b[39;00m:\n\u001b[0;32m    522\u001b[0m     manager_class\u001b[38;5;241m.\u001b[39m_owns_mainloop \u001b[38;5;241m=\u001b[39m \u001b[38;5;28;01mFalse\u001b[39;00m\n",
      "File \u001b[1;32mE:\\Python39\\lib\\tkinter\\__init__.py:1422\u001b[0m, in \u001b[0;36mMisc.mainloop\u001b[1;34m(self, n)\u001b[0m\n\u001b[0;32m   1420\u001b[0m \u001b[38;5;28;01mdef\u001b[39;00m\u001b[38;5;250m \u001b[39m\u001b[38;5;21mmainloop\u001b[39m(\u001b[38;5;28mself\u001b[39m, n\u001b[38;5;241m=\u001b[39m\u001b[38;5;241m0\u001b[39m):\n\u001b[0;32m   1421\u001b[0m \u001b[38;5;250m    \u001b[39m\u001b[38;5;124;03m\"\"\"Call the mainloop of Tk.\"\"\"\u001b[39;00m\n\u001b[1;32m-> 1422\u001b[0m     \u001b[38;5;28;43mself\u001b[39;49m\u001b[38;5;241;43m.\u001b[39;49m\u001b[43mtk\u001b[49m\u001b[38;5;241;43m.\u001b[39;49m\u001b[43mmainloop\u001b[49m\u001b[43m(\u001b[49m\u001b[43mn\u001b[49m\u001b[43m)\u001b[49m\n",
      "\u001b[1;31mKeyboardInterrupt\u001b[0m: "
     ]
    }
   ],
   "source": [
    "# 可视化结果\n",
    "plot(sol.t, sol.y[0], label=\"Capacitor Voltage Vc\",\n",
    "     x_label=\"time / s\", y_label=\"Vc / V\")\n",
    "\n",
    "# print(\"---- End ----\")"
   ]
  },
  {
   "cell_type": "code",
   "execution_count": 53,
   "metadata": {},
   "outputs": [
    {
     "ename": "AttributeError",
     "evalue": "'RCsys' object has no attribute 'resistor_n_i'",
     "output_type": "error",
     "traceback": [
      "\u001b[1;31m---------------------------------------------------------------------------\u001b[0m",
      "\u001b[1;31mAttributeError\u001b[0m                            Traceback (most recent call last)",
      "Cell \u001b[1;32mIn[53], line 1\u001b[0m\n\u001b[1;32m----> 1\u001b[0m sol[\u001b[43msys\u001b[49m\u001b[38;5;241;43m.\u001b[39;49m\u001b[43mresistor_n_i\u001b[49m]\n",
      "\u001b[1;31mAttributeError\u001b[0m: 'RCsys' object has no attribute 'resistor_n_i'"
     ]
    }
   ],
   "source": [
    "sol[sys.resistor_n_i]"
   ]
  }
 ],
 "metadata": {
  "kernelspec": {
   "display_name": ".venv",
   "language": "python",
   "name": "python3"
  },
  "language_info": {
   "codemirror_mode": {
    "name": "ipython",
    "version": 3
   },
   "file_extension": ".py",
   "mimetype": "text/x-python",
   "name": "python",
   "nbconvert_exporter": "python",
   "pygments_lexer": "ipython3",
   "version": "3.9.0"
  }
 },
 "nbformat": 4,
 "nbformat_minor": 2
}
