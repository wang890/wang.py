{
 "cells": [
  {
   "cell_type": "markdown",
   "metadata": {
    "collapsed": false,
    "jupyter": {
     "outputs_hidden": false
    }
   },
   "source": [
    "+ https://docs.python.org 官方文档\n",
    "+ 代码也可写成.py形式, 测试语法时也常用本文jupyter形式."
   ]
  },
  {
   "cell_type": "markdown",
   "metadata": {},
   "source": [
    "### .1 变量名"
   ]
  },
  {
   "cell_type": "markdown",
   "metadata": {},
   "source": [
    "### .2 Hello world"
   ]
  },
  {
   "cell_type": "code",
   "execution_count": 1,
   "metadata": {
    "ExecuteTime": {
     "end_time": "2025-03-15T06:19:54.694612Z",
     "start_time": "2025-03-15T06:19:54.688896Z"
    }
   },
   "outputs": [
    {
     "name": "stdout",
     "output_type": "stream",
     "text": [
      "\n",
      "Hello, everyone!\n",
      "My name is CaoCao, 19 years old,\n",
      "I'm a Gate Man.\n"
     ]
    }
   ],
   "source": [
    "name = \"CaoCao\"\n",
    "age = 19\n",
    "\n",
    "print(\"\"\"\n",
    "Hello, everyone!\n",
    "My name is %s, %d years old,\n",
    "I'm a Gate Man.\"\"\" % (name, age))"
   ]
  },
  {
   "cell_type": "markdown",
   "metadata": {
    "collapsed": false,
    "jupyter": {
     "outputs_hidden": false
    }
   },
   "source": [
    "### .3 万物皆是对象"
   ]
  },
  {
   "cell_type": "code",
   "execution_count": 2,
   "metadata": {
    "collapsed": false,
    "jupyter": {
     "outputs_hidden": false
    },
    "pycharm": {
     "name": "#%%\n"
    }
   },
   "outputs": [
    {
     "name": "stdout",
     "output_type": "stream",
     "text": [
      "<class 'int'>\n"
     ]
    },
    {
     "data": {
      "text/plain": [
       "(3, 1)"
      ]
     },
     "execution_count": 2,
     "metadata": {},
     "output_type": "execute_result"
    }
   ],
   "source": [
    "integer = 3                 # 特征属性\n",
    "print(type(integer))\n",
    "integer.as_integer_ratio()  # 方法属性"
   ]
  },
  {
   "cell_type": "markdown",
   "metadata": {
    "collapsed": false,
    "jupyter": {
     "outputs_hidden": false
    }
   },
   "source": [
    "### .4 显示计算值 IPython.display.display() vs print()\n",
    "百度搜索：https://www.baidu.com/s?wd=python%20显示最近的计算值,\n",
    "搜素页百度AI显示：python, jupyter 不显示最近的计算值, 但有一些变相方法。"
   ]
  },
  {
   "cell_type": "code",
   "execution_count": 3,
   "metadata": {
    "collapsed": false,
    "jupyter": {
     "outputs_hidden": false
    },
    "pycharm": {
     "name": "#%%\n"
    }
   },
   "outputs": [
    {
     "data": {
      "text/plain": [
       "38"
      ]
     },
     "execution_count": 3,
     "metadata": {},
     "output_type": "execute_result"
    }
   ],
   "source": [
    "age*2         # 正常显示结果"
   ]
  },
  {
   "cell_type": "code",
   "execution_count": 4,
   "metadata": {
    "collapsed": false,
    "jupyter": {
     "outputs_hidden": false
    },
    "pycharm": {
     "name": "#%%\n"
    }
   },
   "outputs": [],
   "source": [
    "lst1 = [1,2]  # jupyter 不显示最近的计算值"
   ]
  },
  {
   "cell_type": "code",
   "execution_count": 5,
   "metadata": {
    "collapsed": false,
    "jupyter": {
     "outputs_hidden": false
    },
    "pycharm": {
     "name": "#%%\n"
    }
   },
   "outputs": [
    {
     "data": {
      "text/plain": [
       "[1, 2]"
      ]
     },
     "execution_count": 5,
     "metadata": {},
     "output_type": "execute_result"
    }
   ],
   "source": [
    "lst2 = [1,2]\n",
    "lst2          # 非要再敲下变量名才显示"
   ]
  },
  {
   "cell_type": "code",
   "execution_count": 6,
   "metadata": {
    "collapsed": false,
    "jupyter": {
     "outputs_hidden": false
    },
    "pycharm": {
     "name": "#%%\n"
    }
   },
   "outputs": [
    {
     "name": "stdout",
     "output_type": "stream",
     "text": [
      "{2, 3}\n"
     ]
    },
    {
     "data": {
      "text/plain": [
       "{'a': 1}"
      ]
     },
     "execution_count": 6,
     "metadata": {},
     "output_type": "execute_result"
    }
   ],
   "source": [
    "lst3 = [1,2,2]\n",
    "set3 = {2,3,3}\n",
    "dct3 = {\"a\":1}\n",
    "\n",
    "lst3          # 不显示\n",
    "print(set3)   # print 才相当于显示\n",
    "dct3          # 最后这个能显示"
   ]
  },
  {
   "cell_type": "code",
   "execution_count": 7,
   "metadata": {
    "collapsed": false,
    "jupyter": {
     "outputs_hidden": false
    },
    "pycharm": {
     "name": "#%%\n"
    }
   },
   "outputs": [
    {
     "data": {
      "text/plain": [
       "[1, 2, 2]"
      ]
     },
     "metadata": {},
     "output_type": "display_data"
    },
    {
     "data": {
      "text/plain": [
       "{2, 3}"
      ]
     },
     "metadata": {},
     "output_type": "display_data"
    },
    {
     "data": {
      "text/plain": [
       "{'a': 1}"
      ]
     },
     "metadata": {},
     "output_type": "display_data"
    }
   ],
   "source": [
    "from IPython.display import display\n",
    "display(lst3, set3, dct3)"
   ]
  },
  {
   "cell_type": "markdown",
   "source": [
    "https://blog.csdn.net/weixin_62403234/article/details/143838108 <br>\n",
    "IPython display 功能强大\n",
    "```python\n",
    "from IPython.display import display, Markdown, Image, Audio, Video\n",
    "# 显示文本\n",
    "display(Markdown('**Hello, World!**'))\n",
    "# 显示多个对象\n",
    "display(\"Text\",[1,2,3],{\"key\": \"value\"})\n",
    "# 显示图像\n",
    "display(Image(filename='image png'))\n",
    "# 显示网络图片\n",
    "url_image = Image(url='https://example com/example png')\n",
    "display(url_image)\n",
    "# 显示音频\n",
    "display(Audio(filename='audio mp3'))\n",
    "# 显示视频\n",
    "display(Video(filename='video mp4'))\n",
    "```"
   ],
   "metadata": {
    "collapsed": false,
    "pycharm": {
     "name": "#%% md\n"
    }
   }
  },
  {
   "cell_type": "markdown",
   "metadata": {
    "collapsed": false,
    "jupyter": {
     "outputs_hidden": false
    }
   },
   "source": [
    "### .5 Function pipe"
   ]
  },
  {
   "cell_type": "markdown",
   "source": [
    "#### (1) Python ≥3.10\n",
    "https://flexiple.com/python/python-pipeline-operator, 说Python版本≥3.10支持pipe, 有使用样例。\n",
    "TODO"
   ],
   "metadata": {
    "collapsed": false,
    "pycharm": {
     "name": "#%% md\n"
    }
   }
  },
  {
   "cell_type": "markdown",
   "source": [
    "#### (2) 第三方库\n",
    "https://pypi.org/project/pipetools\n",
    "its github: https://github.com/0101/pipetools\n",
    "its doc: https://0101.github.io/pipetools/doc"
   ],
   "metadata": {
    "collapsed": false,
    "pycharm": {
     "name": "#%% md\n"
    }
   }
  },
  {
   "cell_type": "code",
   "execution_count": 8,
   "metadata": {
    "collapsed": false,
    "jupyter": {
     "outputs_hidden": false
    },
    "pycharm": {
     "name": "#%%\n"
    }
   },
   "outputs": [
    {
     "data": {
      "text/plain": [
       "list"
      ]
     },
     "metadata": {},
     "output_type": "display_data"
    },
    {
     "name": "stdout",
     "output_type": "stream",
     "text": [
      "<class 'list'>\n"
     ]
    }
   ],
   "source": [
    "display(type(lst3)) # 嵌套过多麻烦\n",
    "print(type(lst3))\n",
    "# print与display功能类似, 但显示有区别"
   ]
  },
  {
   "cell_type": "code",
   "execution_count": 9,
   "metadata": {
    "collapsed": false,
    "jupyter": {
     "outputs_hidden": false
    },
    "pycharm": {
     "name": "#%%\n"
    }
   },
   "outputs": [
    {
     "name": "stdout",
     "output_type": "stream",
     "text": [
      "3.4641016151377544\n"
     ]
    },
    {
     "data": {
      "text/plain": [
       "int"
      ]
     },
     "metadata": {},
     "output_type": "display_data"
    }
   ],
   "source": [
    "from pipetools import pipe\n",
    "from math import sqrt\n",
    "12 > pipe | sqrt | print\n",
    "12 > pipe | type | display\n",
    "# cell之间不是独立的, 不用再次import display\n"
   ]
  },
  {
   "cell_type": "code",
   "execution_count": 10,
   "metadata": {
    "collapsed": false,
    "jupyter": {
     "outputs_hidden": false
    },
    "pycharm": {
     "name": "#%%\n"
    }
   },
   "outputs": [
    {
     "data": {
      "text/plain": [
       "type"
      ]
     },
     "metadata": {},
     "output_type": "display_data"
    },
    {
     "data": {
      "text/plain": [
       "type"
      ]
     },
     "metadata": {},
     "output_type": "display_data"
    },
    {
     "data": {
      "text/plain": [
       "type"
      ]
     },
     "metadata": {},
     "output_type": "display_data"
    }
   ],
   "source": [
    "int > pipe | type | display\n",
    "list > pipe | type | display\n",
    "type > pipe | type | display"
   ]
  },
  {
   "cell_type": "code",
   "execution_count": 11,
   "metadata": {
    "collapsed": false,
    "jupyter": {
     "outputs_hidden": false
    },
    "pycharm": {
     "name": "#%%\n"
    }
   },
   "outputs": [
    {
     "data": {
      "text/plain": [
       "True"
      ]
     },
     "execution_count": 11,
     "metadata": {},
     "output_type": "execute_result"
    }
   ],
   "source": [
    "# isinstance 类似 type()函数\n",
    "isinstance(lst3, list)      # True\n",
    "isinstance(12, (int, list)) # True, 是int或list吗"
   ]
  },
  {
   "cell_type": "code",
   "execution_count": 12,
   "metadata": {
    "ExecuteTime": {
     "end_time": "2025-03-15T06:15:38.907547Z",
     "start_time": "2025-03-15T06:15:38.899913Z"
    },
    "collapsed": false,
    "jupyter": {
     "outputs_hidden": false
    },
    "pycharm": {
     "name": "#%%\n"
    }
   },
   "outputs": [
    {
     "data": {
      "text/plain": [
       "[1, 2, 2]"
      ]
     },
     "metadata": {},
     "output_type": "display_data"
    },
    {
     "ename": "ValueError",
     "evalue": "Cannot pipe None",
     "output_type": "error",
     "traceback": [
      "\u001B[1;31m---------------------------------------------------------------------------\u001B[0m",
      "\u001B[1;31mValueError\u001B[0m                                Traceback (most recent call last)",
      "Cell \u001B[1;32mIn[12], line 4\u001B[0m\n\u001B[0;32m      1\u001B[0m display(lst3)\n\u001B[0;32m      2\u001B[0m \u001B[38;5;66;03m# lst3 > pipe | append\u001B[39;00m\n\u001B[0;32m      3\u001B[0m \u001B[38;5;66;03m# append是lst3这样对象的方法, 所以上行append不对\u001B[39;00m\n\u001B[1;32m----> 4\u001B[0m \u001B[43mpipe\u001B[49m\u001B[43m \u001B[49m\u001B[38;5;241;43m|\u001B[39;49m\u001B[43m \u001B[49m\u001B[43mlst3\u001B[49m\u001B[38;5;241;43m.\u001B[39;49m\u001B[43mappend\u001B[49m\u001B[43m(\u001B[49m\u001B[38;5;241;43m3\u001B[39;49m\u001B[43m)\u001B[49m \u001B[38;5;241m|\u001B[39m \u001B[38;5;28mstr\u001B[39m \u001B[38;5;241m|\u001B[39m display\n\u001B[0;32m      5\u001B[0m \u001B[38;5;66;03m# 上行错误, lst3.append(3)返回值是None, 不能传入pipe\u001B[39;00m\n\u001B[0;32m      6\u001B[0m \u001B[38;5;66;03m# 但lst3已经append了3\u001B[39;00m\n",
      "File \u001B[1;32me:\\wang.py\\.venv\\lib\\site-packages\\pipetools\\main.py:52\u001B[0m, in \u001B[0;36mPipe.__or__\u001B[1;34m(self, next_func)\u001B[0m\n\u001B[0;32m     50\u001B[0m pipe_in_a_pipe \u001B[38;5;241m=\u001B[39m \u001B[38;5;28misinstance\u001B[39m(next_func, Pipe) \u001B[38;5;129;01mand\u001B[39;00m next_func\u001B[38;5;241m.\u001B[39mfunc \u001B[38;5;129;01mis\u001B[39;00m \u001B[38;5;28;01mNone\u001B[39;00m\n\u001B[0;32m     51\u001B[0m new_cls \u001B[38;5;241m=\u001B[39m \u001B[38;5;28mtype\u001B[39m(next_func) \u001B[38;5;28;01mif\u001B[39;00m pipe_in_a_pipe \u001B[38;5;28;01melse\u001B[39;00m \u001B[38;5;28;01mNone\u001B[39;00m\n\u001B[1;32m---> 52\u001B[0m \u001B[38;5;28mnext\u001B[39m \u001B[38;5;241m=\u001B[39m \u001B[38;5;28;01mNone\u001B[39;00m \u001B[38;5;28;01mif\u001B[39;00m pipe_in_a_pipe \u001B[38;5;28;01melse\u001B[39;00m \u001B[43mprepare_function_for_pipe\u001B[49m\u001B[43m(\u001B[49m\u001B[43mnext_func\u001B[49m\u001B[43m)\u001B[49m\n\u001B[0;32m     53\u001B[0m \u001B[38;5;28;01mreturn\u001B[39;00m \u001B[38;5;28mself\u001B[39m\u001B[38;5;241m.\u001B[39mbind(\u001B[38;5;28mself\u001B[39m\u001B[38;5;241m.\u001B[39mfunc, \u001B[38;5;28mnext\u001B[39m, new_cls)\n",
      "File \u001B[1;32me:\\wang.py\\.venv\\lib\\site-packages\\pipetools\\main.py:106\u001B[0m, in \u001B[0;36mprepare_function_for_pipe\u001B[1;34m(thing)\u001B[0m\n\u001B[0;32m    104\u001B[0m \u001B[38;5;28;01mif\u001B[39;00m \u001B[38;5;28mcallable\u001B[39m(thing):\n\u001B[0;32m    105\u001B[0m     \u001B[38;5;28;01mreturn\u001B[39;00m thing\n\u001B[1;32m--> 106\u001B[0m \u001B[38;5;28;01mraise\u001B[39;00m \u001B[38;5;167;01mValueError\u001B[39;00m(\u001B[38;5;124m'\u001B[39m\u001B[38;5;124mCannot pipe \u001B[39m\u001B[38;5;132;01m%s\u001B[39;00m\u001B[38;5;124m'\u001B[39m \u001B[38;5;241m%\u001B[39m thing)\n",
      "\u001B[1;31mValueError\u001B[0m: Cannot pipe None"
     ]
    }
   ],
   "source": [
    "display(lst3)\n",
    "# lst3 > pipe | append\n",
    "# append是lst3这样对象的方法, 所以上行append不对\n",
    "pipe | lst3.append(3) | str | display\n",
    "# 上行错误, lst3.append(3)返回值是None, 不能传入pipe\n",
    "# 但lst3已经append了3"
   ]
  },
  {
   "cell_type": "code",
   "execution_count": 13,
   "metadata": {
    "collapsed": false,
    "jupyter": {
     "outputs_hidden": false
    },
    "pycharm": {
     "name": "#%%\n"
    }
   },
   "outputs": [
    {
     "data": {
      "text/plain": [
       "[1, 2, 2, 3]"
      ]
     },
     "metadata": {},
     "output_type": "display_data"
    },
    {
     "data": {
      "text/plain": [
       "[1, 2, 2, 3, 3]"
      ]
     },
     "execution_count": 13,
     "metadata": {},
     "output_type": "execute_result"
    }
   ],
   "source": [
    "display(lst3)\n",
    "lst3.append(3) is None\n",
    "lst3\n",
    "# append函数没有返回值,即返回值为None"
   ]
  },
  {
   "cell_type": "markdown",
   "source": [
    "#### 自学：类比\n",
    "由已知学未知，不同的程序语言的语法和功能是类似的，可以相互类比、猜测。<br>\n",
    "\n",
    "如下搜索官网没有搜到合适的：\n",
    "+ **Python Doc**: 在https://docs.python.org搜索pipe, 结果为 https://docs.python.org/3/search.html?q=pipe\n",
    "+ **Google: function pipe site: docs.python.org/3/**, https://www.google.com/search?q=function+pipe+site%3A+docs.python.org%2F3%2F\n",
    "\n",
    "https://cn.bing.com/search?q=python+Function+piping，\n",
    "作者已知有的编程语言有Fuction pipe功能,\n",
    "所以就如此搜索看看Python有没有相关功能,\n",
    "搜索时 piping一词也可以是 pipe, 一般搜索引擎的搜索会囊括所有衍生词词族的结果，下面是有用的搜索结果线索：\n",
    "+ https://stackoverflow.com/questions/28252585/functional-pipes-in-python-like-from-rs-magrittr\n",
    "  <br>有**toolz**用法如下,但toolz说明文档([从pypi查找](https://pypi.org/project/toolz))不清晰明了。\n",
    "  toolz github: https://github.com/pytoolz/toolz/\n",
    "```python\n",
    "from toolz import pipe\n",
    "from math import sqrt\n",
    "pipe(12, sqrt, str)\n",
    "'3.4641016151377544'\n",
    "```\n",
    "+ https://flexiple.com/python/python-pipeline-operator, 说Python版本≥3.10支持pipe, 有使用样例。\n",
    "+ https://pypi.org/project/pipetools, 作者已使用**pipetools**\n",
    "+ https://alexparsons.co.uk/function-pipes-in-python, 有自行实现的方法思路\n",
    "\n",
    "+ https://pypi.org/project/pipe-operator, **pipe-operator**是**pipeop的升级版**。<br>\n",
    "  **pipeop**: https://pypi.org/project/pipeop, https://github.com/robinhilliard/pipes\n",
    "  好像是通过装饰器, 让函数内部的pipe能够多参数，如下：\n",
    "```python\n",
    "c(b(a(1, 2), 3, 4)) # can be written more readably as:\n",
    "1 |> a(2) |> b(3, 4) |> c()\n",
    "\n",
    "from pipeop import pipes\n",
    "def add(a, b):\n",
    "    return a + b\n",
    "def times(a, b):\n",
    "    return a * b\n",
    "@pipes\n",
    "def calc():\n",
    "    print 1 >> add(2) >> times(3)  # prints 9\n",
    "\n",
    "# Functions can have any number of arguments:\n",
    "def add3(a, b, c):\n",
    "    return a + b + c\n",
    "@pipes\n",
    "def calc():\n",
    "    print 1 >> add3(2, 3)  # prints 6\n",
    "```\n",
    "+ **pipe**: https://pypi.org/project/pipe, https://github.com/JulienPalard/Pipe,\n",
    "+ https://github.com/LangTrans/Py_Trans, Language translation, 不用留意这个**Py_Trans**。\n",
    "\n"
   ],
   "metadata": {
    "collapsed": false,
    "pycharm": {
     "name": "#%% md\n"
    }
   }
  }
 ],
 "metadata": {
  "kernelspec": {
   "display_name": "Python 3 (ipykernel)",
   "language": "python",
   "name": "python3"
  },
  "language_info": {
   "codemirror_mode": {
    "name": "ipython",
    "version": 3
   },
   "file_extension": ".py",
   "mimetype": "text/x-python",
   "name": "python",
   "nbconvert_exporter": "python",
   "pygments_lexer": "ipython3",
   "version": "3.9.0"
  }
 },
 "nbformat": 4,
 "nbformat_minor": 4
}