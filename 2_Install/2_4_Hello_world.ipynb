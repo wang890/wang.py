{
 "cells": [
  {
   "cell_type": "markdown",
   "metadata": {
    "collapsed": false,
    "jupyter": {
     "outputs_hidden": false
    }
   },
   "source": [
    "+ https://docs.python.org 官方文档\n",
    "+ 代码也可写成.py形式, 测试语法时也常用本文jupyter形式."
   ]
  },
  {
   "cell_type": "markdown",
   "metadata": {},
   "source": [
    "### .1 变量名\n",
    "+ 变量名，类似代数里的变量符号\n",
    "+ 变量名可以赋值任何数据对象，a='1', a = 1, a = (1, 2, 3)\n",
    "+ 字母、数字、下划线，任意组合，但数字不能在首位，字母区分大小写。\n",
    "+ 变量名要起得有意义，可读，\n",
    "  可以用很简单很简洁的英文单词来表示变量，建议多查在线字典。<br>\n",
    "  clover(英语) 优于 sanyecao(拼音) 优于 three_leaf_grass(别扭的中式英语)"
   ]
  },
  {
   "cell_type": "code",
   "execution_count": 1,
   "metadata": {
    "collapsed": false,
    "jupyter": {
     "outputs_hidden": false
    },
    "pycharm": {
     "name": "#%%\n"
    }
   },
   "outputs": [],
   "source": [
    "zhang_fei_skills = ['掌心雷','侧戳矛','朝天吼']\n",
    "# = \"“赋值符号”，不是“等于”"
   ]
  },
  {
   "cell_type": "markdown",
   "metadata": {
    "collapsed": false,
    "jupyter": {
     "outputs_hidden": false
    },
    "pycharm": {
     "name": "#%% md\n"
    }
   },
   "source": [
    "+ 若变量名由若干单词组成，python建议单词之间使用下划线连接，\n",
    "  并且全部为小写字母，如user_account, user_password。\n",
    "+ python的常量也可被修改，不是严格意义的常量。\n",
    "  按习惯，常量采用 全是大写字母的形式 定义名称。\n",
    "\n",
    "+ 系统关键字（保留关键字），不能用作变量名。\n",
    "  type可以作变量名，但不建议，易出错。\n",
    "  IDLE中保留关键字以橙色显示，type这类以紫色显示，常规变量黑色显示。"
   ]
  },
  {
   "cell_type": "code",
   "execution_count": 2,
   "metadata": {},
   "outputs": [
    {
     "data": {
      "text/plain": [
       "int"
      ]
     },
     "execution_count": 2,
     "metadata": {},
     "output_type": "execute_result"
    }
   ],
   "source": [
    "type(1)"
   ]
  },
  {
   "cell_type": "markdown",
   "metadata": {},
   "source": [
    "这种带括号的称为**函数**，类似数学里的函数function，像机器一样，有一定的功能function。括号里的称为参数（也可能没有）就是进料，函数机器运行干活后，可能会有输出(产品)。type()函数的功能是查看类型，print()函数的功能是打印输出。"
   ]
  },
  {
   "cell_type": "code",
   "execution_count": 3,
   "metadata": {},
   "outputs": [
    {
     "name": "stdout",
     "output_type": "stream",
     "text": [
      "<class 'int'>\n"
     ]
    }
   ],
   "source": [
    "print(type(1))"
   ]
  },
  {
   "cell_type": "code",
   "execution_count": 4,
   "metadata": {
    "collapsed": false,
    "jupyter": {
     "outputs_hidden": false
    },
    "pycharm": {
     "name": "#%%\n"
    }
   },
   "outputs": [],
   "source": [
    "# type = 1  # 不要打开注释运行，否则后面type函数都用不了啦\n",
    "\n",
    "# 变量名不要与python内部关键字重名\n",
    "# 重名了就影响了type函数的正常运行啦, 如下一个cell"
   ]
  },
  {
   "cell_type": "code",
   "execution_count": null,
   "metadata": {},
   "outputs": [],
   "source": [
    "# type(1)  \n",
    "\n",
    "# 如果前面执行了type = 1, type成了1而不是原本的type函数\n",
    "# 会发生如下错误\n",
    "\n",
    "# TypeError          Traceback (most recent call last)\n",
    "# Cell In[5], line 1\n",
    "# ----> 1 type(1)\n",
    "\n",
    "# TypeError: 'int' object is not callable"
   ]
  },
  {
   "cell_type": "markdown",
   "metadata": {},
   "source": [
    "### .2 Hello world\n",
    "\n",
    "- 数据类型：字符串str,用单引号或双引号标识，多行字符串用三引号。\n",
    "  \n",
    "- python没有字符char类型\n",
    "  \n",
    "- 字符串填充变量的两种方式"
   ]
  },
  {
   "cell_type": "code",
   "execution_count": 1,
   "metadata": {},
   "outputs": [
    {
     "data": {
      "text/plain": [
       "True"
      ]
     },
     "execution_count": 1,
     "metadata": {},
     "output_type": "execute_result"
    }
   ],
   "source": [
    "type('C') == type(\"CaoCao\") == str"
   ]
  },
  {
   "cell_type": "code",
   "execution_count": null,
   "metadata": {
    "ExecuteTime": {
     "end_time": "2025-03-15T06:19:54.694612Z",
     "start_time": "2025-03-15T06:19:54.688896Z"
    }
   },
   "outputs": [
    {
     "name": "stdout",
     "output_type": "stream",
     "text": [
      "\n",
      "Hello, everyone!\n",
      "My name is CaoCao, born in 155,\n",
      "Now, 18.50 years old.\n",
      "I'm a Gate Man.\n"
     ]
    }
   ],
   "source": [
    "name = \"CaoCao\"\n",
    "age = 18.5\n",
    "born_year = 155\n",
    "\n",
    "print(\"\"\"          \n",
    "Hello, everyone!\n",
    "My name is %s, born in %d,\n",
    "Now, %.2f years old.\n",
    "I'm a Gate Man.\"\"\" % (name, born_year, age)) \n",
    "\n",
    "# 填充方式1：%s 字符串，%d 整数，%f 浮点数(若规定小数位数，则类似于%.2f)"
   ]
  },
  {
   "cell_type": "code",
   "execution_count": 10,
   "metadata": {},
   "outputs": [
    {
     "data": {
      "text/plain": [
       "\"\\nHello, everyone!\\nMy name is CaoCao, born in 155,\\nNow, 18.50 years old.\\nI'm a Gate Man.\""
      ]
     },
     "execution_count": 10,
     "metadata": {},
     "output_type": "execute_result"
    }
   ],
   "source": [
    "f\"\"\"\n",
    "Hello, everyone!\n",
    "My name is {name}, born in {born_year},\n",
    "Now, {age:.2f} years old.\n",
    "I'm a Gate Man.\"\"\" \n",
    "\n",
    "# 填充方式2：f\"{}\"\n",
    "# 换行符：\\n, print()或电脑显示时会执行其含义“换行”"
   ]
  },
  {
   "cell_type": "markdown",
   "metadata": {},
   "source": [
    "程序语言，是数学的工具，类比数学进行学习。语法是语言设计者制定的规则，按规则写代码即可（如上述字符串的填充规则），这样解释器才能认识你写大代码文本(text). 各种语言的语法都是类似的，新语言的设计者在语言设计过程中会参考已有的语言，再说各种语言都是数学工具。类比数学进行学习，编程学习不难；如果学过一门语言，再学另一门语言就很简单；如果用过两门语言，要使用第3门语言时，可能都不用专门学习，用时简单查查官方文档、在百度等搜索网站搜索下帖子。"
   ]
  },
  {
   "cell_type": "markdown",
   "metadata": {
    "collapsed": false,
    "jupyter": {
     "outputs_hidden": false
    }
   },
   "source": [
    "### .3 万物皆是对象(即Object物)"
   ]
  },
  {
   "cell_type": "code",
   "execution_count": null,
   "metadata": {},
   "outputs": [],
   "source": [
    "integer = 18\n",
    "# 对象的特征属性，\n",
    "# 以更简单的对象表示，如此形成嵌套结构。\n",
    "\n",
    "# 如学生对象张三的特征属性：\n",
    "# 学号120211100119，姓名“张三” 年龄18 成绩{\"高等数学\":90, \"线性代数\":85}等\n",
    "# 分别以整数、字符串、整数、字典(后续介绍)表示的"
   ]
  },
  {
   "cell_type": "code",
   "execution_count": null,
   "metadata": {},
   "outputs": [
    {
     "name": "stdout",
     "output_type": "stream",
     "text": [
      "<class 'int'>\n"
     ]
    }
   ],
   "source": [
    "print(type(integer)) "
   ]
  },
  {
   "cell_type": "markdown",
   "metadata": {},
   "source": [
    "这是嵌套调用，原料integer → type函数机器 → print函数机器 → 产品即输出字符串：<class 'int'>。这就是生产线，可称为Funciton pipe。"
   ]
  },
  {
   "cell_type": "code",
   "execution_count": null,
   "metadata": {
    "collapsed": false,
    "jupyter": {
     "outputs_hidden": false
    },
    "pycharm": {
     "name": "#%%\n"
    }
   },
   "outputs": [
    {
     "data": {
      "text/plain": [
       "(3, 1)"
      ]
     },
     "execution_count": 16,
     "metadata": {},
     "output_type": "execute_result"
    }
   ],
   "source": [
    "# integer敲完后，按“.”键，\n",
    "# 编程界面会弹出这个integer对象的属性和方法列表，可根据需要选用，\n",
    "# 这是非常重要的自学方法。 \n",
    "\n",
    "integer.as_integer_ratio()\n",
    "# 对象的方法属性，即能干什么活，\n",
    "# 以函数来实现，函数就是机器，机器有功能能干活，\n",
    "# 如学生对象的：get_age(), do_homework()"
   ]
  },
  {
   "cell_type": "markdown",
   "metadata": {
    "collapsed": false,
    "jupyter": {
     "outputs_hidden": false
    }
   },
   "source": [
    "### .4 显示计算值 IPython.display.display() vs print()\n",
    "百度搜索：https://www.baidu.com/s?wd=python%20显示最近的计算值,\n",
    "搜素页百度AI显示：python, jupyter 不显示最近的计算值, 但有一些变相方法。"
   ]
  },
  {
   "cell_type": "code",
   "execution_count": 3,
   "metadata": {
    "collapsed": false,
    "jupyter": {
     "outputs_hidden": false
    },
    "pycharm": {
     "name": "#%%\n"
    }
   },
   "outputs": [
    {
     "data": {
      "text/plain": [
       "38"
      ]
     },
     "execution_count": 3,
     "metadata": {},
     "output_type": "execute_result"
    }
   ],
   "source": [
    "age*2         # 正常显示结果"
   ]
  },
  {
   "cell_type": "code",
   "execution_count": null,
   "metadata": {
    "collapsed": false,
    "jupyter": {
     "outputs_hidden": false
    },
    "pycharm": {
     "name": "#%%\n"
    }
   },
   "outputs": [],
   "source": [
    "lst1 = [1,2]  # jupyter 不显示最近的计算值\n",
    "# []标记的是列表list对象"
   ]
  },
  {
   "cell_type": "code",
   "execution_count": 5,
   "metadata": {
    "collapsed": false,
    "jupyter": {
     "outputs_hidden": false
    },
    "pycharm": {
     "name": "#%%\n"
    }
   },
   "outputs": [
    {
     "data": {
      "text/plain": [
       "[1, 2]"
      ]
     },
     "execution_count": 5,
     "metadata": {},
     "output_type": "execute_result"
    }
   ],
   "source": [
    "lst2 = [1,2]\n",
    "lst2          # 非要再敲下变量名才显示"
   ]
  },
  {
   "cell_type": "code",
   "execution_count": null,
   "metadata": {
    "collapsed": false,
    "jupyter": {
     "outputs_hidden": false
    },
    "pycharm": {
     "name": "#%%\n"
    }
   },
   "outputs": [
    {
     "name": "stdout",
     "output_type": "stream",
     "text": [
      "{2, 3}\n"
     ]
    },
    {
     "data": {
      "text/plain": [
       "{'a': 1}"
      ]
     },
     "execution_count": 6,
     "metadata": {},
     "output_type": "execute_result"
    }
   ],
   "source": [
    "lst3 = [1,2,2]\n",
    "set3 = {2,3,3} # {}标记的集合set对象\n",
    "dct3 = {\"a\":1} # {:,:}标记的字典dict对象\n",
    "\n",
    "lst3           # 不显示\n",
    "print(set3)    # print 才相当于显示\n",
    "dct3           # 最后这个能显示"
   ]
  },
  {
   "cell_type": "code",
   "execution_count": 7,
   "metadata": {
    "collapsed": false,
    "jupyter": {
     "outputs_hidden": false
    },
    "pycharm": {
     "name": "#%%\n"
    }
   },
   "outputs": [
    {
     "data": {
      "text/plain": [
       "[1, 2, 2]"
      ]
     },
     "metadata": {},
     "output_type": "display_data"
    },
    {
     "data": {
      "text/plain": [
       "{2, 3}"
      ]
     },
     "metadata": {},
     "output_type": "display_data"
    },
    {
     "data": {
      "text/plain": [
       "{'a': 1}"
      ]
     },
     "metadata": {},
     "output_type": "display_data"
    }
   ],
   "source": [
    "from IPython.display import display\n",
    "display(lst3, set3, dct3)"
   ]
  },
  {
   "cell_type": "markdown",
   "metadata": {
    "collapsed": false,
    "jupyter": {
     "outputs_hidden": false
    },
    "pycharm": {
     "name": "#%% md\n"
    }
   },
   "source": [
    "https://blog.csdn.net/weixin_62403234/article/details/143838108 <br>\n",
    "IPython display 功能强大\n",
    "```python\n",
    "from IPython.display import display, Markdown, Image, Audio, Video\n",
    "# 显示文本\n",
    "display(Markdown('**Hello, World!**'))\n",
    "# 显示多个对象\n",
    "display(\"Text\",[1,2,3],{\"key\": \"value\"})\n",
    "# 显示图像\n",
    "display(Image(filename='image png'))\n",
    "# 显示网络图片\n",
    "url_image = Image(url='https://example com/example png')\n",
    "display(url_image)\n",
    "# 显示音频\n",
    "display(Audio(filename='audio mp3'))\n",
    "# 显示视频\n",
    "display(Video(filename='video mp4'))\n",
    "```"
   ]
  },
  {
   "cell_type": "markdown",
   "metadata": {
    "collapsed": false,
    "jupyter": {
     "outputs_hidden": false
    }
   },
   "source": [
    "### .5 Function pipe"
   ]
  },
  {
   "cell_type": "markdown",
   "metadata": {
    "collapsed": false,
    "jupyter": {
     "outputs_hidden": false
    },
    "pycharm": {
     "name": "#%% md\n"
    }
   },
   "source": [
    "#### (1) Python ≥3.10\n",
    "https://flexiple.com/python/python-pipeline-operator, 说Python版本≥3.10支持pipe, 有使用样例。\n",
    "TODO"
   ]
  },
  {
   "cell_type": "markdown",
   "metadata": {
    "collapsed": false,
    "jupyter": {
     "outputs_hidden": false
    },
    "pycharm": {
     "name": "#%% md\n"
    }
   },
   "source": [
    "#### (2) 第三方库\n",
    "https://pypi.org/project/pipetools\n",
    "its github: https://github.com/0101/pipetools\n",
    "its doc: https://0101.github.io/pipetools/doc"
   ]
  },
  {
   "cell_type": "code",
   "execution_count": 8,
   "metadata": {
    "collapsed": false,
    "jupyter": {
     "outputs_hidden": false
    },
    "pycharm": {
     "name": "#%%\n"
    }
   },
   "outputs": [
    {
     "data": {
      "text/plain": [
       "list"
      ]
     },
     "metadata": {},
     "output_type": "display_data"
    },
    {
     "name": "stdout",
     "output_type": "stream",
     "text": [
      "<class 'list'>\n"
     ]
    }
   ],
   "source": [
    "display(type(lst3)) # 嵌套过多麻烦\n",
    "print(type(lst3))\n",
    "# print与display功能类似, 但显示有区别"
   ]
  },
  {
   "cell_type": "code",
   "execution_count": 9,
   "metadata": {
    "collapsed": false,
    "jupyter": {
     "outputs_hidden": false
    },
    "pycharm": {
     "name": "#%%\n"
    }
   },
   "outputs": [
    {
     "name": "stdout",
     "output_type": "stream",
     "text": [
      "3.4641016151377544\n"
     ]
    },
    {
     "data": {
      "text/plain": [
       "int"
      ]
     },
     "metadata": {},
     "output_type": "display_data"
    }
   ],
   "source": [
    "from pipetools import pipe\n",
    "from math import sqrt\n",
    "12 > pipe | sqrt | print\n",
    "12 > pipe | type | display\n",
    "# cell之间不是独立的, 不用再次import display\n"
   ]
  },
  {
   "cell_type": "code",
   "execution_count": 10,
   "metadata": {
    "collapsed": false,
    "jupyter": {
     "outputs_hidden": false
    },
    "pycharm": {
     "name": "#%%\n"
    }
   },
   "outputs": [
    {
     "data": {
      "text/plain": [
       "type"
      ]
     },
     "metadata": {},
     "output_type": "display_data"
    },
    {
     "data": {
      "text/plain": [
       "type"
      ]
     },
     "metadata": {},
     "output_type": "display_data"
    },
    {
     "data": {
      "text/plain": [
       "type"
      ]
     },
     "metadata": {},
     "output_type": "display_data"
    }
   ],
   "source": [
    "int > pipe | type | display\n",
    "list > pipe | type | display\n",
    "type > pipe | type | display"
   ]
  },
  {
   "cell_type": "code",
   "execution_count": 11,
   "metadata": {
    "collapsed": false,
    "jupyter": {
     "outputs_hidden": false
    },
    "pycharm": {
     "name": "#%%\n"
    }
   },
   "outputs": [
    {
     "data": {
      "text/plain": [
       "True"
      ]
     },
     "execution_count": 11,
     "metadata": {},
     "output_type": "execute_result"
    }
   ],
   "source": [
    "# isinstance 类似 type()函数\n",
    "isinstance(lst3, list)      # True\n",
    "isinstance(12, (int, list)) # True, 是int或list吗"
   ]
  },
  {
   "cell_type": "code",
   "execution_count": 12,
   "metadata": {
    "ExecuteTime": {
     "end_time": "2025-03-15T06:15:38.907547Z",
     "start_time": "2025-03-15T06:15:38.899913Z"
    },
    "collapsed": false,
    "jupyter": {
     "outputs_hidden": false
    },
    "pycharm": {
     "name": "#%%\n"
    }
   },
   "outputs": [
    {
     "data": {
      "text/plain": [
       "[1, 2, 2]"
      ]
     },
     "metadata": {},
     "output_type": "display_data"
    },
    {
     "ename": "ValueError",
     "evalue": "Cannot pipe None",
     "output_type": "error",
     "traceback": [
      "\u001b[1;31m---------------------------------------------------------------------------\u001b[0m",
      "\u001b[1;31mValueError\u001b[0m                                Traceback (most recent call last)",
      "Cell \u001b[1;32mIn[12], line 4\u001b[0m\n\u001b[0;32m      1\u001b[0m display(lst3)\n\u001b[0;32m      2\u001b[0m \u001b[38;5;66;03m# lst3 > pipe | append\u001b[39;00m\n\u001b[0;32m      3\u001b[0m \u001b[38;5;66;03m# append是lst3这样对象的方法, 所以上行append不对\u001b[39;00m\n\u001b[1;32m----> 4\u001b[0m \u001b[43mpipe\u001b[49m\u001b[43m \u001b[49m\u001b[38;5;241;43m|\u001b[39;49m\u001b[43m \u001b[49m\u001b[43mlst3\u001b[49m\u001b[38;5;241;43m.\u001b[39;49m\u001b[43mappend\u001b[49m\u001b[43m(\u001b[49m\u001b[38;5;241;43m3\u001b[39;49m\u001b[43m)\u001b[49m \u001b[38;5;241m|\u001b[39m \u001b[38;5;28mstr\u001b[39m \u001b[38;5;241m|\u001b[39m display\n\u001b[0;32m      5\u001b[0m \u001b[38;5;66;03m# 上行错误, lst3.append(3)返回值是None, 不能传入pipe\u001b[39;00m\n\u001b[0;32m      6\u001b[0m \u001b[38;5;66;03m# 但lst3已经append了3\u001b[39;00m\n",
      "File \u001b[1;32me:\\wang.py\\.venv\\lib\\site-packages\\pipetools\\main.py:52\u001b[0m, in \u001b[0;36mPipe.__or__\u001b[1;34m(self, next_func)\u001b[0m\n\u001b[0;32m     50\u001b[0m pipe_in_a_pipe \u001b[38;5;241m=\u001b[39m \u001b[38;5;28misinstance\u001b[39m(next_func, Pipe) \u001b[38;5;129;01mand\u001b[39;00m next_func\u001b[38;5;241m.\u001b[39mfunc \u001b[38;5;129;01mis\u001b[39;00m \u001b[38;5;28;01mNone\u001b[39;00m\n\u001b[0;32m     51\u001b[0m new_cls \u001b[38;5;241m=\u001b[39m \u001b[38;5;28mtype\u001b[39m(next_func) \u001b[38;5;28;01mif\u001b[39;00m pipe_in_a_pipe \u001b[38;5;28;01melse\u001b[39;00m \u001b[38;5;28;01mNone\u001b[39;00m\n\u001b[1;32m---> 52\u001b[0m \u001b[38;5;28mnext\u001b[39m \u001b[38;5;241m=\u001b[39m \u001b[38;5;28;01mNone\u001b[39;00m \u001b[38;5;28;01mif\u001b[39;00m pipe_in_a_pipe \u001b[38;5;28;01melse\u001b[39;00m \u001b[43mprepare_function_for_pipe\u001b[49m\u001b[43m(\u001b[49m\u001b[43mnext_func\u001b[49m\u001b[43m)\u001b[49m\n\u001b[0;32m     53\u001b[0m \u001b[38;5;28;01mreturn\u001b[39;00m \u001b[38;5;28mself\u001b[39m\u001b[38;5;241m.\u001b[39mbind(\u001b[38;5;28mself\u001b[39m\u001b[38;5;241m.\u001b[39mfunc, \u001b[38;5;28mnext\u001b[39m, new_cls)\n",
      "File \u001b[1;32me:\\wang.py\\.venv\\lib\\site-packages\\pipetools\\main.py:106\u001b[0m, in \u001b[0;36mprepare_function_for_pipe\u001b[1;34m(thing)\u001b[0m\n\u001b[0;32m    104\u001b[0m \u001b[38;5;28;01mif\u001b[39;00m \u001b[38;5;28mcallable\u001b[39m(thing):\n\u001b[0;32m    105\u001b[0m     \u001b[38;5;28;01mreturn\u001b[39;00m thing\n\u001b[1;32m--> 106\u001b[0m \u001b[38;5;28;01mraise\u001b[39;00m \u001b[38;5;167;01mValueError\u001b[39;00m(\u001b[38;5;124m'\u001b[39m\u001b[38;5;124mCannot pipe \u001b[39m\u001b[38;5;132;01m%s\u001b[39;00m\u001b[38;5;124m'\u001b[39m \u001b[38;5;241m%\u001b[39m thing)\n",
      "\u001b[1;31mValueError\u001b[0m: Cannot pipe None"
     ]
    }
   ],
   "source": [
    "display(lst3)\n",
    "# lst3 > pipe | append\n",
    "# append是lst3这样对象的方法, 所以上行append不对\n",
    "pipe | lst3.append(3) | str | display\n",
    "# 上行错误, lst3.append(3)返回值是None, 不能传入pipe\n",
    "# 但lst3已经append了3"
   ]
  },
  {
   "cell_type": "code",
   "execution_count": 13,
   "metadata": {
    "collapsed": false,
    "jupyter": {
     "outputs_hidden": false
    },
    "pycharm": {
     "name": "#%%\n"
    }
   },
   "outputs": [
    {
     "data": {
      "text/plain": [
       "[1, 2, 2, 3]"
      ]
     },
     "metadata": {},
     "output_type": "display_data"
    },
    {
     "data": {
      "text/plain": [
       "[1, 2, 2, 3, 3]"
      ]
     },
     "execution_count": 13,
     "metadata": {},
     "output_type": "execute_result"
    }
   ],
   "source": [
    "display(lst3)\n",
    "lst3.append(3) is None\n",
    "lst3\n",
    "# append函数没有返回值,即返回值为None"
   ]
  },
  {
   "cell_type": "markdown",
   "metadata": {
    "collapsed": false,
    "jupyter": {
     "outputs_hidden": false
    },
    "pycharm": {
     "name": "#%% md\n"
    }
   },
   "source": [
    "#### 自学：类比\n",
    "由已知学未知，不同的程序语言的语法和功能是类似的，可以相互类比、猜测。<br>\n",
    "\n",
    "如下搜索官网没有搜到合适的：\n",
    "+ **Python Doc**: 在https://docs.python.org搜索pipe, 结果为 https://docs.python.org/3/search.html?q=pipe\n",
    "+ **Google: function pipe site: docs.python.org/3/**, https://www.google.com/search?q=function+pipe+site%3A+docs.python.org%2F3%2F\n",
    "\n",
    "https://cn.bing.com/search?q=python+Function+piping，\n",
    "作者已知有的编程语言有Fuction pipe功能,\n",
    "所以就如此搜索看看Python有没有相关功能,\n",
    "搜索时 piping一词也可以是 pipe, 一般搜索引擎的搜索会囊括所有衍生词词族的结果，下面是有用的搜索结果线索：\n",
    "+ https://stackoverflow.com/questions/28252585/functional-pipes-in-python-like-from-rs-magrittr\n",
    "  <br>有**toolz**用法如下,但toolz说明文档([从pypi查找](https://pypi.org/project/toolz))不清晰明了。\n",
    "  toolz github: https://github.com/pytoolz/toolz/\n",
    "```python\n",
    "from toolz import pipe\n",
    "from math import sqrt\n",
    "pipe(12, sqrt, str)\n",
    "'3.4641016151377544'\n",
    "```\n",
    "+ https://flexiple.com/python/python-pipeline-operator, 说Python版本≥3.10支持pipe, 有使用样例。\n",
    "+ https://pypi.org/project/pipetools, 作者已使用**pipetools**\n",
    "+ https://alexparsons.co.uk/function-pipes-in-python, 有自行实现的方法思路\n",
    "\n",
    "+ https://pypi.org/project/pipe-operator, **pipe-operator**是**pipeop的升级版**。<br>\n",
    "  **pipeop**: https://pypi.org/project/pipeop, https://github.com/robinhilliard/pipes\n",
    "  好像是通过装饰器, 让函数内部的pipe能够多参数，如下：\n",
    "```python\n",
    "c(b(a(1, 2), 3, 4)) # can be written more readably as:\n",
    "1 |> a(2) |> b(3, 4) |> c()\n",
    "\n",
    "from pipeop import pipes\n",
    "def add(a, b):\n",
    "    return a + b\n",
    "def times(a, b):\n",
    "    return a * b\n",
    "@pipes\n",
    "def calc():\n",
    "    print 1 >> add(2) >> times(3)  # prints 9\n",
    "\n",
    "# Functions can have any number of arguments:\n",
    "def add3(a, b, c):\n",
    "    return a + b + c\n",
    "@pipes\n",
    "def calc():\n",
    "    print 1 >> add3(2, 3)  # prints 6\n",
    "```\n",
    "+ **pipe**: https://pypi.org/project/pipe, https://github.com/JulienPalard/Pipe,\n",
    "+ https://github.com/LangTrans/Py_Trans, Language translation, 不用留意这个**Py_Trans**。\n",
    "\n"
   ]
  }
 ],
 "metadata": {
  "kernelspec": {
   "display_name": ".venv",
   "language": "python",
   "name": "python3"
  },
  "language_info": {
   "codemirror_mode": {
    "name": "ipython",
    "version": 3
   },
   "file_extension": ".py",
   "mimetype": "text/x-python",
   "name": "python",
   "nbconvert_exporter": "python",
   "pygments_lexer": "ipython3",
   "version": "3.9.0"
  }
 },
 "nbformat": 4,
 "nbformat_minor": 4
}
