{
 "cells": [
  {
   "cell_type": "markdown",
   "id": "7481b38e-b6b6-43ab-9238-ae973dad5d9d",
   "metadata": {},
   "source": [
    "### .1 位置参数\n",
    "见 Basic form"
   ]
  },
  {
   "cell_type": "code",
   "execution_count": null,
   "id": "8e2678f6-47db-4497-a39b-e1fc816b09c0",
   "metadata": {},
   "outputs": [],
   "source": [
    "### .2 默认参数"
   ]
  },
  {
   "cell_type": "code",
   "execution_count": 2,
   "id": "a29ac330-a686-469e-a495-68027c1be7a9",
   "metadata": {},
   "outputs": [],
   "source": [
    "def add(x,y=2):\n",
    "    return x +y"
   ]
  },
  {
   "cell_type": "code",
   "execution_count": 3,
   "id": "b68c89ca-1db0-405f-9a81-2106512896e4",
   "metadata": {},
   "outputs": [
    {
     "data": {
      "text/plain": [
       "5"
      ]
     },
     "execution_count": 3,
     "metadata": {},
     "output_type": "execute_result"
    }
   ],
   "source": [
    "add(3)"
   ]
  },
  {
   "cell_type": "code",
   "execution_count": 4,
   "id": "38a163ea-e115-461e-bc3b-bf7fd6182645",
   "metadata": {},
   "outputs": [
    {
     "data": {
      "text/plain": [
       "6"
      ]
     },
     "execution_count": 4,
     "metadata": {},
     "output_type": "execute_result"
    }
   ],
   "source": [
    "add(3,3)"
   ]
  },
  {
   "cell_type": "markdown",
   "id": "6d0cb13c-cd81-4289-87ff-a15cc01e56b7",
   "metadata": {},
   "source": [
    "### .3 可变参数"
   ]
  },
  {
   "cell_type": "code",
   "id": "c91e5493-4e29-482c-b2f5-23aeab08043a",
   "metadata": {
    "ExecuteTime": {
     "end_time": "2025-03-27T12:21:20.285401Z",
     "start_time": "2025-03-27T12:21:20.281534Z"
    }
   },
   "source": [
    "def varargs(a,b,*c):\n",
    "    print(c)\n",
    "    return [a,b, c]"
   ],
   "outputs": [],
   "execution_count": 6
  },
  {
   "cell_type": "code",
   "id": "df6af339-2dd2-441a-9a1e-f5012f00fe5a",
   "metadata": {
    "ExecuteTime": {
     "end_time": "2025-03-27T12:22:00.563874Z",
     "start_time": "2025-03-27T12:22:00.557753Z"
    }
   },
   "source": [
    "varargs(1,2,3,4)"
   ],
   "outputs": [
    {
     "name": "stdout",
     "output_type": "stream",
     "text": [
      "(3, 4)\n"
     ]
    },
    {
     "data": {
      "text/plain": [
       "[1, 2, (3, 4)]"
      ]
     },
     "execution_count": 7,
     "metadata": {},
     "output_type": "execute_result"
    }
   ],
   "execution_count": 7
  },
  {
   "metadata": {
    "ExecuteTime": {
     "end_time": "2025-03-27T12:22:52.390305Z",
     "start_time": "2025-03-27T12:22:52.384638Z"
    }
   },
   "cell_type": "code",
   "source": [
    "varargs(1,2)"
   ],
   "id": "5071d3bcaf540026",
   "outputs": [
    {
     "name": "stdout",
     "output_type": "stream",
     "text": [
      "()\n"
     ]
    },
    {
     "data": {
      "text/plain": [
       "[1, 2, ()]"
      ]
     },
     "execution_count": 8,
     "metadata": {},
     "output_type": "execute_result"
    }
   ],
   "execution_count": 8
  },
  {
   "metadata": {
    "ExecuteTime": {
     "end_time": "2025-03-27T12:23:21.645456Z",
     "start_time": "2025-03-27T12:23:21.638573Z"
    }
   },
   "cell_type": "code",
   "source": [
    "varargs(1,2,3,4,5)"
   ],
   "id": "58916c3007d06af2",
   "outputs": [
    {
     "name": "stdout",
     "output_type": "stream",
     "text": [
      "(3, 4, 5)\n"
     ]
    },
    {
     "data": {
      "text/plain": [
       "[1, 2, (3, 4, 5)]"
      ]
     },
     "execution_count": 9,
     "metadata": {},
     "output_type": "execute_result"
    }
   ],
   "execution_count": 9
  },
  {
   "metadata": {},
   "cell_type": "markdown",
   "source": [
    "### .4 关键字参数\n",
    "调用时 带上参数名"
   ],
   "id": "c23c87530d95eda9"
  },
  {
   "metadata": {
    "ExecuteTime": {
     "end_time": "2025-03-27T12:25:52.806657Z",
     "start_time": "2025-03-27T12:25:52.803340Z"
    }
   },
   "cell_type": "code",
   "source": [
    "def kw(a,b,c,d): # 常规函数\n",
    "    return [a,b,c,d]"
   ],
   "id": "a895420913722a3e",
   "outputs": [],
   "execution_count": 10
  },
  {
   "metadata": {
    "ExecuteTime": {
     "end_time": "2025-03-27T12:26:32.891180Z",
     "start_time": "2025-03-27T12:26:32.855146Z"
    }
   },
   "cell_type": "code",
   "source": [
    "kw(3,2, d=6, c=7)"
   ],
   "id": "77b8ba700ee76f90",
   "outputs": [
    {
     "data": {
      "text/plain": [
       "[3, 2, 7, 6]"
      ]
     },
     "execution_count": 11,
     "metadata": {},
     "output_type": "execute_result"
    }
   ],
   "execution_count": 11
  },
  {
   "metadata": {},
   "cell_type": "markdown",
   "source": [
    "### .5 可变关键字参数\n",
    "接收成字典"
   ],
   "id": "6daa19786c0548cd"
  },
  {
   "metadata": {
    "ExecuteTime": {
     "end_time": "2025-03-27T12:33:09.195079Z",
     "start_time": "2025-03-27T12:33:09.191528Z"
    }
   },
   "cell_type": "code",
   "source": [
    "def kws(a,b,**c): # 常规函数\n",
    "    print(c)\n",
    "    return [a,b,c]"
   ],
   "id": "96dc420ac2b8d02f",
   "outputs": [],
   "execution_count": 13
  },
  {
   "metadata": {
    "ExecuteTime": {
     "end_time": "2025-03-27T12:36:18.516941Z",
     "start_time": "2025-03-27T12:36:18.509969Z"
    }
   },
   "cell_type": "code",
   "source": [
    "kws(1,2, c1=3,c2=4)\n"
   ],
   "id": "73c1aada6cc9f647",
   "outputs": [
    {
     "name": "stdout",
     "output_type": "stream",
     "text": [
      "{'c1': 3, 'c2': 4}\n"
     ]
    },
    {
     "data": {
      "text/plain": [
       "[1, 2, {'c1': 3, 'c2': 4}]"
      ]
     },
     "execution_count": 15,
     "metadata": {},
     "output_type": "execute_result"
    }
   ],
   "execution_count": 15
  }
 ],
 "metadata": {
  "kernelspec": {
   "display_name": "Python 3 (ipykernel)",
   "language": "python",
   "name": "python3"
  },
  "language_info": {
   "codemirror_mode": {
    "name": "ipython",
    "version": 3
   },
   "file_extension": ".py",
   "mimetype": "text/x-python",
   "name": "python",
   "nbconvert_exporter": "python",
   "pygments_lexer": "ipython3",
   "version": "3.13.2"
  }
 },
 "nbformat": 4,
 "nbformat_minor": 5
}